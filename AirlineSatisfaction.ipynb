{
 "cells": [
  {
   "cell_type": "code",
   "execution_count": 1,
   "id": "9759b757-71d2-44d6-afb6-e0eb21accfd8",
   "metadata": {},
   "outputs": [
    {
     "data": {
      "text/plain": [
       "'C:\\\\Users\\\\guy74\\\\Documents\\\\NU Stuff\\\\ANA500\\\\Kasey Ryan ANA500 Micro Project'"
      ]
     },
     "execution_count": 1,
     "metadata": {},
     "output_type": "execute_result"
    }
   ],
   "source": [
    "import os\n",
    "os.getcwd()"
   ]
  },
  {
   "cell_type": "code",
   "execution_count": 3,
   "id": "627746aa-b52a-4f40-855c-76b92acc8fa0",
   "metadata": {},
   "outputs": [
    {
     "name": "stdout",
     "output_type": "stream",
     "text": [
      "                           Column  Populated Values  Missing Values  Distinct Values Data Type\n",
      "                           Gender            129880               0                2    object\n",
      "                    Customer Type            129880               0                2    object\n",
      "                              Age            129880               0               75     int64\n",
      "                   Type of Travel            129880               0                2    object\n",
      "                            Class            129880               0                3    object\n",
      "                  Flight Distance            129880               0             3821     int64\n",
      "            Inflight wifi service            129880               0                6     int64\n",
      "Departure/Arrival time convenient            129880               0                6     int64\n",
      "           Ease of Online booking            129880               0                6     int64\n",
      "                    Gate location            129880               0                6     int64\n",
      "                   Food and drink            129880               0                6     int64\n",
      "                  Online boarding            129880               0                6     int64\n",
      "                     Seat comfort            129880               0                6     int64\n",
      "           Inflight entertainment            129880               0                6     int64\n",
      "                 On-board service            129880               0                6     int64\n",
      "                 Leg room service            129880               0                6     int64\n",
      "                 Baggage handling            129880               0                5     int64\n",
      "                  Checkin service            129880               0                6     int64\n",
      "                 Inflight service            129880               0                6     int64\n",
      "                      Cleanliness            129880               0                6     int64\n",
      "       Departure Delay in Minutes            129880               0              466     int64\n",
      "         Arrival Delay in Minutes            129487             393              472   float64\n",
      "                     satisfaction            129880               0                2    object\n"
     ]
    }
   ],
   "source": [
    "import pandas as pd\n",
    "import numpy as np\n",
    "\n",
    "#Load in the data\n",
    "df = pd.read_csv(\"airline.csv\")\n",
    "\n",
    "#There is a column which is presumably actually not named in the source but at some point got hard coded into this .csv file with the name \"Unnamed: 0\"\n",
    "#That variable is presumably not useful here analytically, and same goes for the \"id\" field. \n",
    "#The rest could serve useful and so we don't want to drop anything else yet at this point\n",
    "df = df.drop(columns=[\"Unnamed: 0\", \"id\"])\n",
    "#print(df)\n",
    "\n",
    "#Loop through each column and calculate some data integrity metrics for each one to output to a table\n",
    "column_checks = []\n",
    "total_rows = df.shape[0]\n",
    "for col in df.columns:\n",
    "    col_data = df[col]\n",
    "    \n",
    "    populated_count = col_data.notnull().sum()\n",
    "    missing_count = col_data.isnull().sum()\n",
    "    distinct_count = col_data.nunique(dropna=True)\n",
    "    data_type = col_data.dtype\n",
    "    \n",
    "    column_checks.append({\n",
    "        \"Column\": col,\n",
    "        \"Populated Values\": populated_count,\n",
    "        \"Missing Values\": missing_count,\n",
    "        \"Distinct Values\": distinct_count,\n",
    "        \"Data Type\": str(data_type)\n",
    "    })\n",
    "\n",
    "integrity_df = pd.DataFrame(column_checks)\n",
    "\n",
    "#This can sort it by missing values if we want the highest of those to rise to the top for further investigation/decisions\n",
    "#integrity_df = integrity_df.sort_values(by=\"Missing Values\", ascending=False)\n",
    "\n",
    "\n",
    "print(integrity_df.to_string(index=False))\n"
   ]
  },
  {
   "cell_type": "code",
   "execution_count": 5,
   "id": "50b90e95-6f7d-4c4f-b898-e5d0634ce6fe",
   "metadata": {},
   "outputs": [
    {
     "name": "stdout",
     "output_type": "stream",
     "text": [
      "Total number of exact duplicate rows (excluding the two dropped columns): 0\n"
     ]
    }
   ],
   "source": [
    "#Let's also check for any duplicate rows where every single variable is exactly the same (BESIDES the id and blank ones we dropped already)\n",
    "duplicate_count = df.duplicated().sum()\n",
    "print(f\"Total number of exact duplicate rows (excluding the two dropped columns): {duplicate_count}\")"
   ]
  },
  {
   "cell_type": "code",
   "execution_count": 7,
   "id": "c12d13b0-0a6d-42a2-a08e-18374cc73a72",
   "metadata": {},
   "outputs": [
    {
     "name": "stdout",
     "output_type": "stream",
     "text": [
      "        Gender      Customer_Type  Age   Type_of_Travel     Class  \\\n",
      "0         Male     Loyal Customer   13  Personal Travel  Eco Plus   \n",
      "1         Male  disloyal Customer   25  Business travel  Business   \n",
      "2       Female     Loyal Customer   26  Business travel  Business   \n",
      "3       Female     Loyal Customer   25  Business travel  Business   \n",
      "4         Male     Loyal Customer   61  Business travel  Business   \n",
      "...        ...                ...  ...              ...       ...   \n",
      "129875    Male  disloyal Customer   34  Business travel  Business   \n",
      "129876    Male     Loyal Customer   23  Business travel  Business   \n",
      "129877  Female     Loyal Customer   17  Personal Travel       Eco   \n",
      "129878    Male     Loyal Customer   14  Business travel  Business   \n",
      "129879  Female     Loyal Customer   42  Personal Travel       Eco   \n",
      "\n",
      "        Flight_Distance  Inflight_wifi_service  \\\n",
      "0                   460                      3   \n",
      "1                   235                      3   \n",
      "2                  1142                      2   \n",
      "3                   562                      2   \n",
      "4                   214                      3   \n",
      "...                 ...                    ...   \n",
      "129875              526                      3   \n",
      "129876              646                      4   \n",
      "129877              828                      2   \n",
      "129878             1127                      3   \n",
      "129879              264                      2   \n",
      "\n",
      "        Departure/Arrival_time_convenient  Ease_of_Online_booking  \\\n",
      "0                                       4                       3   \n",
      "1                                       2                       3   \n",
      "2                                       2                       2   \n",
      "3                                       5                       5   \n",
      "4                                       3                       3   \n",
      "...                                   ...                     ...   \n",
      "129875                                  3                       3   \n",
      "129876                                  4                       4   \n",
      "129877                                  5                       1   \n",
      "129878                                  3                       3   \n",
      "129879                                  5                       2   \n",
      "\n",
      "        Gate_location  ...  Inflight_entertainment  On-board_service  \\\n",
      "0                   1  ...                       5                 4   \n",
      "1                   3  ...                       1                 1   \n",
      "2                   2  ...                       5                 4   \n",
      "3                   5  ...                       2                 2   \n",
      "4                   3  ...                       3                 3   \n",
      "...               ...  ...                     ...               ...   \n",
      "129875              1  ...                       4                 3   \n",
      "129876              4  ...                       4                 4   \n",
      "129877              5  ...                       2                 4   \n",
      "129878              3  ...                       4                 3   \n",
      "129879              5  ...                       1                 1   \n",
      "\n",
      "        Leg_room_service  Baggage_handling  Checkin_service  Inflight_service  \\\n",
      "0                      3                 4                4                 5   \n",
      "1                      5                 3                1                 4   \n",
      "2                      3                 4                4                 4   \n",
      "3                      5                 3                1                 4   \n",
      "4                      4                 4                3                 3   \n",
      "...                  ...               ...              ...               ...   \n",
      "129875                 2                 4                4                 5   \n",
      "129876                 5                 5                5                 5   \n",
      "129877                 3                 4                5                 4   \n",
      "129878                 2                 5                4                 5   \n",
      "129879                 2                 1                1                 1   \n",
      "\n",
      "        Cleanliness  Departure_Delay_in_Minutes  Arrival_Delay_in_Minutes  \\\n",
      "0                 5                          25                      18.0   \n",
      "1                 1                           1                       6.0   \n",
      "2                 5                           0                       0.0   \n",
      "3                 2                          11                       9.0   \n",
      "4                 3                           0                       0.0   \n",
      "...             ...                         ...                       ...   \n",
      "129875            4                           0                       0.0   \n",
      "129876            4                           0                       0.0   \n",
      "129877            2                           0                       0.0   \n",
      "129878            4                           0                       0.0   \n",
      "129879            1                           0                       0.0   \n",
      "\n",
      "                   satisfaction  \n",
      "0       neutral or dissatisfied  \n",
      "1       neutral or dissatisfied  \n",
      "2                     satisfied  \n",
      "3       neutral or dissatisfied  \n",
      "4                     satisfied  \n",
      "...                         ...  \n",
      "129875  neutral or dissatisfied  \n",
      "129876                satisfied  \n",
      "129877  neutral or dissatisfied  \n",
      "129878                satisfied  \n",
      "129879  neutral or dissatisfied  \n",
      "\n",
      "[129880 rows x 23 columns]\n"
     ]
    }
   ],
   "source": [
    "#Swap out the column names so if any columns have spaces we change them to underscores instead:\n",
    "# Replace all spaces in column names with underscores\n",
    "df.columns = df.columns.str.replace(\" \", \"_\")\n",
    "print(df)"
   ]
  },
  {
   "cell_type": "code",
   "execution_count": 9,
   "id": "e81d1a28-4ce4-4f06-bd63-1750b63928e7",
   "metadata": {},
   "outputs": [],
   "source": [
    "#If/when needed, export the new version of the file to another named .csv for further exploration manaully in Excel, sharing, whatever else\n",
    "df.to_csv('AirlineSatisfaction_Transformed.csv', index=False)"
   ]
  },
  {
   "cell_type": "code",
   "execution_count": null,
   "id": "71f630b1-e6e1-4553-9c15-a42ce130153d",
   "metadata": {},
   "outputs": [],
   "source": []
  }
 ],
 "metadata": {
  "kernelspec": {
   "display_name": "Python [conda env:base] *",
   "language": "python",
   "name": "conda-base-py"
  },
  "language_info": {
   "codemirror_mode": {
    "name": "ipython",
    "version": 3
   },
   "file_extension": ".py",
   "mimetype": "text/x-python",
   "name": "python",
   "nbconvert_exporter": "python",
   "pygments_lexer": "ipython3",
   "version": "3.12.7"
  }
 },
 "nbformat": 4,
 "nbformat_minor": 5
}
