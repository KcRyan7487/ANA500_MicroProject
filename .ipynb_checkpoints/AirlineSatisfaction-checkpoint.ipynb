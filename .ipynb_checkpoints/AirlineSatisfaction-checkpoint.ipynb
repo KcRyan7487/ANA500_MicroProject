{
 "cells": [
  {
   "cell_type": "code",
   "execution_count": 1,
   "id": "9759b757-71d2-44d6-afb6-e0eb21accfd8",
   "metadata": {},
   "outputs": [
    {
     "data": {
      "text/plain": [
       "'C:\\\\Users\\\\guy74\\\\Documents\\\\NU Stuff\\\\ANA500\\\\Week 1'"
      ]
     },
     "execution_count": 1,
     "metadata": {},
     "output_type": "execute_result"
    }
   ],
   "source": [
    "import os\n",
    "os.getcwd()"
   ]
  },
  {
   "cell_type": "code",
   "execution_count": 19,
   "id": "627746aa-b52a-4f40-855c-76b92acc8fa0",
   "metadata": {},
   "outputs": [
    {
     "name": "stdout",
     "output_type": "stream",
     "text": [
      "                           Column  Populated Values  Missing Values  Distinct Values Data Type\n",
      "                           Gender            129880               0                2    object\n",
      "                    Customer Type            129880               0                2    object\n",
      "                              Age            129880               0               75     int64\n",
      "                   Type of Travel            129880               0                2    object\n",
      "                            Class            129880               0                3    object\n",
      "                  Flight Distance            129880               0             3821     int64\n",
      "            Inflight wifi service            129880               0                6     int64\n",
      "Departure/Arrival time convenient            129880               0                6     int64\n",
      "           Ease of Online booking            129880               0                6     int64\n",
      "                    Gate location            129880               0                6     int64\n",
      "                   Food and drink            129880               0                6     int64\n",
      "                  Online boarding            129880               0                6     int64\n",
      "                     Seat comfort            129880               0                6     int64\n",
      "           Inflight entertainment            129880               0                6     int64\n",
      "                 On-board service            129880               0                6     int64\n",
      "                 Leg room service            129880               0                6     int64\n",
      "                 Baggage handling            129880               0                5     int64\n",
      "                  Checkin service            129880               0                6     int64\n",
      "                 Inflight service            129880               0                6     int64\n",
      "                      Cleanliness            129880               0                6     int64\n",
      "       Departure Delay in Minutes            129880               0              466     int64\n",
      "         Arrival Delay in Minutes            129487             393              472   float64\n",
      "                     satisfaction            129880               0                2    object\n"
     ]
    }
   ],
   "source": [
    "import pandas as pd\n",
    "import numpy as np\n",
    "\n",
    "#Load in the data\n",
    "df = pd.read_csv(\"airline.csv\")\n",
    "\n",
    "#There is a column which is presumably actually not named in the source but at some point got hard coded into this .csv file with the name \"Unnamed: 0\"\n",
    "#That variable is presumably not useful here analytically, and same goes for the \"id\" field. \n",
    "#The rest could serve useful and so we don't want to drop anything else yet at this point\n",
    "df = df.drop(columns=[\"Unnamed: 0\", \"id\"])\n",
    "#print(df)\n",
    "\n",
    "#Loop through each column and calculate some data integrity metrics for each one to output to a table\n",
    "column_checks = []\n",
    "total_rows = df.shape[0]\n",
    "for col in df.columns:\n",
    "    col_data = df[col]\n",
    "    \n",
    "    populated_count = col_data.notnull().sum()\n",
    "    missing_count = col_data.isnull().sum()\n",
    "    distinct_count = col_data.nunique(dropna=True)\n",
    "    data_type = col_data.dtype\n",
    "    \n",
    "    column_checks.append({\n",
    "        \"Column\": col,\n",
    "        \"Populated Values\": populated_count,\n",
    "        \"Missing Values\": missing_count,\n",
    "        \"Distinct Values\": distinct_count,\n",
    "        \"Data Type\": str(data_type)\n",
    "    })\n",
    "\n",
    "integrity_df = pd.DataFrame(column_checks)\n",
    "\n",
    "#This can sort it by missing values if we want the highest of those to rise to the top for further investigation/decisions\n",
    "#integrity_df = integrity_df.sort_values(by=\"Missing Values\", ascending=False)\n",
    "\n",
    "\n",
    "print(integrity_df.to_string(index=False))\n"
   ]
  },
  {
   "cell_type": "code",
   "execution_count": 33,
   "id": "50b90e95-6f7d-4c4f-b898-e5d0634ce6fe",
   "metadata": {},
   "outputs": [
    {
     "name": "stdout",
     "output_type": "stream",
     "text": [
      "Total number of exact duplicate rows (excluding the two dropped columns): 0\n"
     ]
    }
   ],
   "source": [
    "#Let's also check for any duplicate rows where every single variable is exactly the same (BESIDES the id and blank ones we dropped already)\n",
    "duplicate_count = df.duplicated().sum()\n",
    "print(f\"Total number of exact duplicate rows (excluding the two dropped columns): {duplicate_count}\")"
   ]
  },
  {
   "cell_type": "code",
   "execution_count": null,
   "id": "e81d1a28-4ce4-4f06-bd63-1750b63928e7",
   "metadata": {},
   "outputs": [],
   "source": [
    "#If/when needed, export the new version of the file to another named .csv for further exploration manaully in Excel, sharing, whatever else\n",
    "df.to_csv('AirlineSatisfaction_Transformed.csv', index=False)"
   ]
  }
 ],
 "metadata": {
  "kernelspec": {
   "display_name": "Python [conda env:base] *",
   "language": "python",
   "name": "conda-base-py"
  },
  "language_info": {
   "codemirror_mode": {
    "name": "ipython",
    "version": 3
   },
   "file_extension": ".py",
   "mimetype": "text/x-python",
   "name": "python",
   "nbconvert_exporter": "python",
   "pygments_lexer": "ipython3",
   "version": "3.12.7"
  }
 },
 "nbformat": 4,
 "nbformat_minor": 5
}
